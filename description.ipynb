{
 "cells": [
  {
   "cell_type": "code",
   "execution_count": 1,
   "id": "e3b209fb",
   "metadata": {},
   "outputs": [],
   "source": [
    "taches = {0: \"Faire le mini trello\", 1 : \"ranger ma chambre\", 2:\"tondre la pelouse\", 3:\"aller à Basic Fit\"}\n",
    "colonnes = {\"En cours\":[0], \"A venir\": [3],\"Passées\": [1, 2]}\n",
    "Boards = {\"nom\" : \"Organisation Avril\", \"Board\" : [taches, colonnes]}"
   ]
  }
 ],
 "metadata": {
  "kernelspec": {
   "display_name": ".venv",
   "language": "python",
   "name": "python3"
  },
  "language_info": {
   "codemirror_mode": {
    "name": "ipython",
    "version": 3
   },
   "file_extension": ".py",
   "mimetype": "text/x-python",
   "name": "python",
   "nbconvert_exporter": "python",
   "pygments_lexer": "ipython3",
   "version": "3.12.3"
  }
 },
 "nbformat": 4,
 "nbformat_minor": 5
}
